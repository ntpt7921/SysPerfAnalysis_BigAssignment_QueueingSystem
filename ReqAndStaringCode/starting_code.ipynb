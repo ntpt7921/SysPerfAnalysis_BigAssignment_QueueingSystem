{
 "cells": [
  {
   "cell_type": "markdown",
   "metadata": {
    "id": "CUHWTvIm1FwD"
   },
   "source": [
    "#Project title"
   ]
  },
  {
   "cell_type": "markdown",
   "metadata": {
    "id": "ubin2eU-0476"
   },
   "source": [
    "# 1. Team work declaration\n",
    "\n",
    "## Team\n",
    "| Student           | Id      |\n",
    "|-------------------|---------|\n",
    "| SV1               | ID1 |\n",
    "| SV2               | ID2 |\n",
    "| ...               | ... |\n",
    "\n",
    "## Workmap declaration\n",
    "\n",
    "| Last name | Student ID | Design Role | Dev Role | Eval Role | Report Role | Ass1 work description (details in text)  | Rating | week 2 outcome | week 3 outcome | week 4 outcome  |\n",
    "|-----------|------------|-------------|----------|-----------|-------------|------------------------------------------|-----------------|----------------|----------------|-----------------|\n",
    "| S1        |            | yes/no      | yes/no   | yes/no    | yes/no      |                                          | A/B/C           |                |                |                 |\n",
    "| S2        |            | yes/no      | yes/no   | yes/no    | yes/no      |                                          | A/B/C           |                |                |                 |\n",
    "| S3        |            | yes/no      | yes/no   | yes/no    | yes/no      |                                          | A/B/C           |                |                |                 |\n",
    "| S4        |            | yes/no      | yes/no   | yes/no    | yes/no      |                                          | A/B/C           |                |                |                 |\n",
    "| S5        |            | yes/no      | yes/no   | yes/no    | yes/no      |                                          | A/B/C           |                |                |                 |\n",
    "| S6        |            | yes/no      | yes/no   | yes/no    | yes/no      |                                          | A/B/C           |                |                |                 |\n",
    "|           |            |             |          |           |             |                                          |                 |                |                |                 |\n",
    "|           |            |             |          |           |             |                                          |                 |                |                |                 |\n"
   ]
  },
  {
   "cell_type": "markdown",
   "metadata": {
    "id": "JmvYUjApfJyh"
   },
   "source": [
    "*Guideline for teamwork declaration*\n",
    "Student needs to explicitly declare his/her contribution to the whole project with the specific role of Design/Dev/Eval(Test)/Report. Each role will associated with the differents activities in the group and will be ask to oral question differently.\n",
    "\n",
    "Group member self evaluate the amount of the work base on the 3level as follow:\n",
    "2 members are graded A for carrying the most of work done by him/her\n",
    "3 members are graded B for the main of work done by him/her\n",
    "2 members are graded C for his/her little contribution\n",
    "\n",
    "Remember that the higher contribution you make the higher score evaluation you obtain and the more oral questions that you need to take the responsibility since you know the project at the most.\n",
    "\n",
    "No work declaration implies all are rated C and have minus point since the task is missing."
   ]
  },
  {
   "cell_type": "markdown",
   "metadata": {
    "id": "bpm6agBkwg9i"
   },
   "source": [
    "# 2.System design\n",
    "\n",
    "## System Performance Steps\n",
    "\n",
    "### 1. Define Goal and System\n",
    "\n",
    "### 2. Service and Outcomes\n",
    "\n",
    "### 3. Select Metrics\n",
    "\n",
    "### 4. List System Parameters\n",
    "\n",
    "### 5. List Factors to Study\n",
    "\n",
    "### 6. Evaluation Technique\n",
    "\n",
    "### 7. Select Workload\n",
    "\n"
   ]
  },
  {
   "cell_type": "markdown",
   "metadata": {
    "id": "IL6qdL4l0Okt"
   },
   "source": [
    "## System Component/Module description"
   ]
  },
  {
   "cell_type": "markdown",
   "metadata": {
    "id": "8KEafsk1znLp"
   },
   "source": [
    "# 3. System Implementation\n",
    "\n"
   ]
  },
  {
   "cell_type": "markdown",
   "metadata": {
    "id": "1sEsoPFEyMSP"
   },
   "source": [
    "## [Mandatory] Install prerequisite library\n",
    "\n",
    "\n",
    "*   simpy\n",
    "\n"
   ]
  },
  {
   "cell_type": "code",
   "execution_count": null,
   "metadata": {
    "id": "beclnXcxyM0q"
   },
   "outputs": [],
   "source": [
    "pip install simpy"
   ]
  },
  {
   "cell_type": "markdown",
   "metadata": {
    "id": "ls-Lb9pgivH8"
   },
   "source": [
    "## [Mandatory] System integration mandatory to explicit document among members' roles\n",
    "\n",
    "\n",
    "The design/coding/test/report need to explicitly export their work to other members:\n",
    "- design must provide the scheme diagram and all the interface need for coder to implement\n",
    "- coder must export full details of how to use your function implementation\n",
    "- tester must export the required interface that you need from designer/coder and the description of your test case scenarior.\n",
    "- reporter must export the structure and verify all the representation/result in your composing document material."
   ]
  },
  {
   "cell_type": "markdown",
   "metadata": {
    "id": "ggmtLnonyPjy"
   },
   "source": [
    "## Queuing Node 1\n",
    "Depends on your work how many node will associate with each node in a bullet"
   ]
  },
  {
   "cell_type": "code",
   "execution_count": null,
   "metadata": {
    "id": "IDMU-QtsvyDn"
   },
   "outputs": [],
   "source": []
  },
  {
   "cell_type": "markdown",
   "metadata": {
    "id": "111MFmX2zq3x"
   },
   "source": [
    "\n",
    "## Queuing node 2\n",
    "\n",
    "Depends on your work how many node will associate with each node in a bullet\n"
   ]
  },
  {
   "cell_type": "code",
   "execution_count": null,
   "metadata": {
    "id": "NmLjdtRwzeM1"
   },
   "outputs": [],
   "source": []
  },
  {
   "cell_type": "markdown",
   "metadata": {
    "id": "pyKjPPZuztkU"
   },
   "source": [
    "## Queuing node 3\n",
    "\n",
    "Depends on your work how many node will associate with each node in a bullet"
   ]
  },
  {
   "cell_type": "code",
   "execution_count": null,
   "metadata": {
    "id": "P4hxSzqwzv_j"
   },
   "outputs": [],
   "source": []
  },
  {
   "cell_type": "markdown",
   "metadata": {
    "id": "u-tuRYM1zwhz"
   },
   "source": [
    " ## [Mandatory] System configuration and execution"
   ]
  },
  {
   "cell_type": "code",
   "execution_count": null,
   "metadata": {
    "id": "5MseY1WFz5eQ"
   },
   "outputs": [],
   "source": []
  },
  {
   "cell_type": "markdown",
   "metadata": {
    "id": "OOJ3gBpCz47W"
   },
   "source": [
    "\n",
    "# 4. Present results"
   ]
  },
  {
   "cell_type": "code",
   "execution_count": null,
   "metadata": {
    "id": "YHjJimRGz-ds"
   },
   "outputs": [],
   "source": []
  },
  {
   "cell_type": "markdown",
   "metadata": {
    "id": "5XTuLnjDz_oE"
   },
   "source": [
    "Experiment 1"
   ]
  },
  {
   "cell_type": "code",
   "execution_count": null,
   "metadata": {
    "id": "ZHEo_fLm0IFf"
   },
   "outputs": [],
   "source": []
  },
  {
   "cell_type": "markdown",
   "metadata": {
    "id": "_s16dUz00EYc"
   },
   "source": [
    "Experiment 2"
   ]
  },
  {
   "cell_type": "code",
   "execution_count": null,
   "metadata": {
    "id": "KRdeaihH0JHo"
   },
   "outputs": [],
   "source": []
  },
  {
   "cell_type": "markdown",
   "metadata": {
    "id": "fbY9vNTS0D6T"
   },
   "source": [
    "# 5. Conclusions\n",
    "\n",
    "Project coordinator provide the statements of the work's including the superior point and 2-3 limitation points provided by the testing member"
   ]
  }
 ],
 "metadata": {
  "colab": {
   "authorship_tag": "ABX9TyOhGljUE1Ab0hW10190SjVr",
   "provenance": []
  },
  "kernelspec": {
   "display_name": "Python 3 (ipykernel)",
   "language": "python",
   "name": "python3"
  },
  "language_info": {
   "codemirror_mode": {
    "name": "ipython",
    "version": 3
   },
   "file_extension": ".py",
   "mimetype": "text/x-python",
   "name": "python",
   "nbconvert_exporter": "python",
   "pygments_lexer": "ipython3",
   "version": "3.11.6"
  }
 },
 "nbformat": 4,
 "nbformat_minor": 1
}
