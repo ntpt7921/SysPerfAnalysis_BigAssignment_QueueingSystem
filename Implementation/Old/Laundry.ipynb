{
 "cells": [
  {
   "cell_type": "markdown",
   "metadata": {
    "datalore": {
     "hide_input_from_viewers": false,
     "hide_output_from_viewers": false,
     "node_id": "22XQq6pQ5NvFXRD0jVUiKv",
     "report_properties": {
      "rowId": "9oBF3rv3793YGxY3HcrZHr"
     },
     "type": "MD"
    }
   },
   "source": [
    "**Installation of \"SimPy\" if not available**"
   ]
  },
  {
   "cell_type": "code",
   "execution_count": 270,
   "metadata": {
    "datalore": {
     "hide_input_from_viewers": false,
     "hide_output_from_viewers": false,
     "node_id": "H4ZGPo9wsXS0vBp3L82Pw9",
     "report_properties": {
      "rowId": "0lGg1euhCQDmZTpcROzxyp"
     },
     "type": "CODE"
    }
   },
   "outputs": [],
   "source": [
    "#!pip install simpy"
   ]
  },
  {
   "cell_type": "markdown",
   "metadata": {
    "datalore": {
     "hide_input_from_viewers": false,
     "hide_output_from_viewers": false,
     "node_id": "UOu1KmaPJW2vL3Avij38Ie",
     "report_properties": {
      "rowId": "s5uAhnAFFmel6xTk0t9asG"
     },
     "type": "MD"
    }
   },
   "source": [
    "**Import of required modules**"
   ]
  },
  {
   "cell_type": "code",
   "execution_count": 271,
   "metadata": {
    "datalore": {
     "hide_input_from_viewers": false,
     "hide_output_from_viewers": false,
     "node_id": "3Pkxz0fITIinDM7tSJ7TMH",
     "report_properties": {
      "rowId": "WdI7MoFBAtbIhAXKuCpLvG"
     },
     "type": "CODE"
    }
   },
   "outputs": [],
   "source": [
    "import simpy\n",
    "import numpy as np\n",
    "import numpy.random as random\n",
    "import math"
   ]
  },
  {
   "cell_type": "code",
   "execution_count": 272,
   "metadata": {
    "datalore": {
     "hide_input_from_viewers": false,
     "hide_output_from_viewers": false,
     "node_id": "IyYJiq4iywEEsLT1hYf777",
     "report_properties": {
      "rowId": "37c5rwcpoWxfYeqHBHsgmL"
     },
     "type": "CODE"
    }
   },
   "outputs": [],
   "source": [
    "MAX_SIMULATION_TIME = 50000\n",
    "VERBOSE = False\n",
    "SOURCE_LAMBDA = 0.05                    # Lambda of the source : 3 customers per 1 hour\n",
    "POPULATION = 5000000           \n",
    "SERVICE_DISCIPLINE = 'FCFS'             # First Come First Serve\n",
    "LOGGED = False\n",
    "PLOTTED = False\n",
    "NUM_QUEUE = 7\n",
    "NUM_SERVER = [1, 4, 4, 4, 4, 4, 1]      # Number servers of each queue"
   ]
  },
  {
   "cell_type": "markdown",
   "metadata": {
    "datalore": {
     "hide_input_from_viewers": false,
     "hide_output_from_viewers": false,
     "node_id": "P54haA5zcEPJBumVxVFgWP",
     "report_properties": {
      "rowId": "va8ikCRXHjwDMdlLkYA0VY"
     },
     "type": "MD"
    }
   },
   "source": [
    "**There are three types of order's service:**\n",
    "1. Only wash\n",
    "2. Only dry\n",
    "3. Wash & dry\n",
    "\n",
    "**And two types of weight:**\n",
    "1. 0kg $<$ weight $\\le$ 10kg\n",
    "2. 10kg $<$ weight $\\le$ 20kg "
   ]
  },
  {
   "cell_type": "code",
   "execution_count": 273,
   "metadata": {
    "datalore": {
     "hide_input_from_viewers": false,
     "hide_output_from_viewers": false,
     "node_id": "oKn3jzVMWkdsVvhhO0xFv9",
     "report_properties": {
      "rowId": "AGYJruNPRonFpFkgJrEmm2"
     },
     "type": "CODE"
    }
   },
   "outputs": [],
   "source": [
    "# Generate random probabilities for each type using a uniform distribution\n",
    "random_type_probabilities = np.random.uniform(0, 1, size=3)\n",
    "# Normalize to ensure the sum is 1\n",
    "random_type_probabilities = np.round(random_type_probabilities/random_type_probabilities.sum(), decimals=1)  \n",
    "\n",
    "\n",
    "# Generate random probabilities for each weight using a uniform distribution\n",
    "random_weight_probabilities = np.random.uniform(0, 1, size=2)\n",
    "# Normalize to ensure the sum is 1\n",
    "random_weight_probabilities = np.round(random_weight_probabilities/random_weight_probabilities.sum(), decimals=1)  \n",
    "\n",
    "# Access the generated probabilities for each type\n",
    "prob_only_wash = random_type_probabilities[0]\n",
    "prob_wash_and_dry = random_type_probabilities[1]\n",
    "prob_only_dry = random_type_probabilities[2]\n",
    "\n",
    "# Access the generated probabilities for each type\n",
    "prob_mini = random_weight_probabilities[0]\n",
    "prob_big = random_weight_probabilities[1]"
   ]
  },
  {
   "cell_type": "code",
   "execution_count": 274,
   "metadata": {
    "datalore": {
     "hide_input_from_viewers": false,
     "hide_output_from_viewers": false,
     "node_id": "GkVvJNFaMYK3awohqbtNNI",
     "report_properties": {
      "rowId": "JPE66WYE1KkmNW8iX5G7do"
     },
     "type": "CODE"
    }
   },
   "outputs": [],
   "source": [
    "LAMBDA = [\n",
    "            SOURCE_LAMBDA, \n",
    "            SOURCE_LAMBDA*prob_mini*(prob_only_wash + prob_wash_and_dry), \n",
    "            SOURCE_LAMBDA*prob_big*(prob_only_wash + prob_wash_and_dry), \n",
    "            SOURCE_LAMBDA*prob_mini*(prob_only_dry + prob_wash_and_dry), \n",
    "            SOURCE_LAMBDA*prob_big*(prob_only_dry + prob_wash_and_dry), \n",
    "            SOURCE_LAMBDA*(prob_mini*(prob_wash_and_dry + prob_only_dry) + prob_big*(prob_wash_and_dry + prob_only_dry)), \n",
    "            SOURCE_LAMBDA\n",
    "         ]                                         # customer/minute\n",
    "\n",
    "\n",
    "MU = [1/5, 1/45, 1/55, 1/25, 1/30, 1/20, 1/5]      # customer/minute"
   ]
  },
  {
   "cell_type": "markdown",
   "metadata": {
    "datalore": {
     "hide_input_from_viewers": false,
     "hide_output_from_viewers": false,
     "node_id": "o3t0YIZIt6xPb2dUNyXyc8",
     "report_properties": {
      "rowId": "bmQlJEFeGRuuynY4XrSw3n"
     },
     "type": "MD"
    }
   },
   "source": [
    "**Discrete - Event Simulation model**\n",
    "\n",
    "**The definition of a job.**\n",
    "\n",
    "The properties of a job are\n",
    "1.  job execution time\n",
    "2.  job arrival time"
   ]
  },
  {
   "cell_type": "code",
   "execution_count": 275,
   "metadata": {
    "datalore": {
     "hide_input_from_viewers": false,
     "hide_output_from_viewers": false,
     "node_id": "9114AAfAhXrDoBjRxbWUSY",
     "report_properties": {
      "rowId": "ZnT2CvL8aJGQNt9ZmQw3vz"
     },
     "type": "CODE"
    }
   },
   "outputs": [],
   "source": [
    "class Job:\n",
    "    def __init__(self, name, arrivalTime, duration):\n",
    "        self.name = name\n",
    "        self.arrivalTime = arrivalTime\n",
    "        self.duration = duration\n",
    "\n",
    "    def __str__(self):\n",
    "        return '%s at %d, length %d' % (self.name, self.arrivalTime, self.duration)"
   ]
  },
  {
   "cell_type": "markdown",
   "metadata": {
    "datalore": {
     "hide_input_from_viewers": false,
     "hide_output_from_viewers": false,
     "node_id": "UgEpNEoDqEGKP0slasXi7h",
     "report_properties": {
      "rowId": "xT8XdoCQFbMbk39BCQfVRI"
     },
     "type": "MD"
    }
   },
   "source": [
    "**The definition of server**\n",
    "\n",
    "There are two arguments needed for a server:\n",
    "1. env: SimPy environment\n",
    "2. queue discipline: FIFO (First In First Out)"
   ]
  },
  {
   "cell_type": "code",
   "execution_count": 276,
   "metadata": {
    "datalore": {
     "hide_input_from_viewers": false,
     "hide_output_from_viewers": false,
     "node_id": "Om9WgBGKmv4N6MjBZCAWf6",
     "report_properties": {
      "rowId": "UmHBqyo1Wz67pCKJMzKLGj"
     },
     "type": "CODE"
    }
   },
   "outputs": [],
   "source": [
    "class Server:\n",
    "    def __init__(self, env, serverNum, strat='FIFO'):\n",
    "        self.env = env\n",
    "        self.strat = strat\n",
    "        self.serverNum = serverNum                      # Number of server\n",
    "        self.Jobs = []                                  # Single shared queue for all servers\n",
    "        self.serverSleeping = [None] * self.serverNum   # List to store the sleeping status of each server\n",
    "        ''' statistics '''\n",
    "        self.waitingTime = 0\n",
    "        self.serviceTime = 0\n",
    "        self.idleTime = [0] * self.serverNum            # List to store idle time for each server\n",
    "        self.jobsDone = [0] * self.serverNum            # List to store the number of done jobs for each server\n",
    "        ''' register a new server process for each server '''\n",
    "        for i in range(self.serverNum):\n",
    "            env.process(self.serve(i))\n",
    "\n",
    "    def serve(self, server_id):\n",
    "        while True:\n",
    "            ''' do nothing, just change server to idle\n",
    "              and then yield a wait event which takes infinite time\n",
    "            '''\n",
    "            if len(self.Jobs) == 0:\n",
    "                self.serverSleeping[server_id] = env.process(self.waiting(self.env, server_id))\n",
    "                t1 = self.env.now\n",
    "                yield self.serverSleeping[server_id]\n",
    "                ''' accumulate the server idle time'''\n",
    "                self.idleTime[server_id] += self.env.now - t1\n",
    "            else:\n",
    "                ''' get the first job to be served'''\n",
    "                j = self.Jobs.pop(0)\n",
    "                if LOGGED:\n",
    "                    qlog.write('%.4f\\t%d\\t%d\\n'\n",
    "                               % (self.env.now, 1 if len(self.Jobs) > 0 else 0, len(self.Jobs)))\n",
    "\n",
    "                ''' sum up the waiting time'''\n",
    "                self.waitingTime += self.env.now - j.arrivalTime\n",
    "                ''' yield an event for the job finish'''\n",
    "                yield self.env.timeout(j.duration)\n",
    "                ''' sum up the service time'''\n",
    "                self.serviceTime += j.duration\n",
    "                ''' sum up the jobs done '''\n",
    "                self.jobsDone[server_id] += 1\n",
    "\n",
    "    def waiting(self, env, server_id):\n",
    "        try:\n",
    "            if VERBOSE:\n",
    "                print('Server %d is idle at %.2f' % (server_id, self.env.now))\n",
    "            yield self.env.timeout(MAX_SIMULATION_TIME)\n",
    "        except simpy.Interrupt as i:\n",
    "            if VERBOSE:\n",
    "                print('Server %d waken up and works at %.2f' % (server_id, self.env.now))        "
   ]
  },
  {
   "cell_type": "markdown",
   "metadata": {
    "datalore": {
     "hide_input_from_viewers": false,
     "hide_output_from_viewers": false,
     "node_id": "ifQ2PEMxzJG02olN0WmdSn",
     "report_properties": {
      "rowId": "dOgODQNxFELW1nwULBGqtP"
     },
     "type": "MD"
    }
   },
   "source": [
    "**The arrival process**\n",
    "\n",
    "The arrival process is exponentially distributed which is parameterized by\n",
    "\n",
    "1.  number of servers\n",
    "2.  maximum number of population\n",
    "3.  arrival rate λ\n",
    "4.  service rate μ\n",
    "    \n",
    "Note that, the implementation of the arrival process embeds both arrival and service distributions."
   ]
  },
  {
   "cell_type": "code",
   "execution_count": 277,
   "metadata": {
    "datalore": {
     "hide_input_from_viewers": false,
     "hide_output_from_viewers": false,
     "node_id": "ZebdBUj8EDFDpihuY4l1H9",
     "report_properties": {
      "rowId": "UEQ2xZ26Sg7TheNCv2fr2W"
     },
     "type": "CODE"
    }
   },
   "outputs": [],
   "source": [
    "class JobGenerator:\n",
    "    def __init__(self, env, server, nrjobs=10000, lam=5, mu=8):\n",
    "        self.server = server\n",
    "        self.nrjobs = nrjobs\n",
    "        self.interarrivaltime = 1 / lam\n",
    "        self.servicetime = 1 / mu\n",
    "        env.process(self.generatejobs(env))\n",
    "\n",
    "    def generatejobs(self, env):\n",
    "        i = 1\n",
    "        while True:\n",
    "            '''yield an event for new job arrival'''\n",
    "            job_interarrival = random.exponential(self.interarrivaltime)\n",
    "            yield env.timeout(job_interarrival)\n",
    "\n",
    "            ''' generate service time and add job to the shared queue'''\n",
    "            job_duration = random.exponential(self.servicetime)\n",
    "            self.server.Jobs.append(Job('Job %s' % i, env.now, job_duration))\n",
    "            if VERBOSE:\n",
    "                print('job %d: t = %.2f, l = %.2f, dt = %.2f'\n",
    "                      % (i, env.now, job_duration, job_interarrival))\n",
    "            i += 1\n",
    "\n",
    "            ''' if any server is idle, wake one of them up'''\n",
    "            for server_id in range(self.server.serverNum):\n",
    "                if not self.server.serverSleeping[server_id].triggered:\n",
    "                    self.server.serverSleeping[server_id].interrupt('Wake up, please.')\n",
    "                    # Only one server is woken up, so once a server wake up, the loop is exited\n",
    "                    break   "
   ]
  },
  {
   "cell_type": "markdown",
   "metadata": {
    "datalore": {
     "hide_input_from_viewers": false,
     "hide_output_from_viewers": false,
     "node_id": "GvcaS6IRuU1FeXoyGLRRBM",
     "report_properties": {
      "rowId": "wIU7oKbZoPpJbj7tnaqZRr"
     },
     "type": "MD"
    }
   },
   "source": [
    "**Open the log file**\n",
    "\n",
    "If requested."
   ]
  },
  {
   "cell_type": "code",
   "execution_count": 278,
   "metadata": {
    "datalore": {
     "hide_input_from_viewers": false,
     "hide_output_from_viewers": false,
     "node_id": "98kWo7EN7CROidGQzEt07N",
     "report_properties": {
      "rowId": "RzI1gB6WqUdcbbDabq3Pn8"
     },
     "type": "CODE"
    }
   },
   "outputs": [],
   "source": [
    "if LOGGED:\n",
    "    for i in range(NUM_QUEUE):\n",
    "        qlog = open('mm1-l%d-m%d.csv' % (LAMBDA[i], MU[i]), 'w')\n",
    "        qlog.write('0\\t0\\t0\\n')"
   ]
  },
  {
   "cell_type": "markdown",
   "metadata": {
    "datalore": {
     "hide_input_from_viewers": false,
     "hide_output_from_viewers": false,
     "node_id": "IK5EOk1k2TMOXs7FmkMD01",
     "report_properties": {
      "rowId": "QtVu0nxhMrq056BTeBf3bS"
     },
     "type": "MD"
    }
   },
   "source": [
    "**Start SimPy environment**"
   ]
  },
  {
   "cell_type": "code",
   "execution_count": 279,
   "metadata": {
    "datalore": {
     "hide_input_from_viewers": false,
     "hide_output_from_viewers": false,
     "node_id": "2dgDQBte4JXxlBJPZXvYaZ",
     "report_properties": {
      "rowId": "107sD6cwfdneeDK3AzNLH7"
     },
     "type": "CODE"
    }
   },
   "outputs": [],
   "source": [
    "env = simpy.Environment()\n",
    "\n",
    "laundryQueue = []\n",
    "laundryJobGenerator = []\n",
    "\n",
    "for i in range(NUM_QUEUE):\n",
    "    laundryQueue.append(Server(env, NUM_SERVER[i], SERVICE_DISCIPLINE))\n",
    "    laundryJobGenerator.append(JobGenerator(env, laundryQueue[i], POPULATION, LAMBDA[i], MU[i]))"
   ]
  },
  {
   "cell_type": "markdown",
   "metadata": {
    "datalore": {
     "hide_input_from_viewers": false,
     "hide_output_from_viewers": false,
     "node_id": "QKeMt3qsXfi8w7mPJ57sWD",
     "report_properties": {
      "rowId": "NLp6TjC9AjkXSw6OtRDZAY"
     },
     "type": "MD"
    }
   },
   "source": [
    "**Run the simulation**"
   ]
  },
  {
   "cell_type": "code",
   "execution_count": 280,
   "metadata": {
    "datalore": {
     "hide_input_from_viewers": false,
     "hide_output_from_viewers": false,
     "node_id": "lZH2shrLBDONYW7NC2zDBv",
     "report_properties": {
      "rowId": "mfGn4za4JT4sQ9h5YAiJuM"
     },
     "type": "CODE"
    }
   },
   "outputs": [],
   "source": [
    "env.run(until=MAX_SIMULATION_TIME)"
   ]
  },
  {
   "cell_type": "markdown",
   "metadata": {
    "datalore": {
     "hide_input_from_viewers": false,
     "hide_output_from_viewers": false,
     "node_id": "ariU9vxBtmkuFbttJK5dmL",
     "report_properties": {
      "rowId": "anXbgv6EcxE8GhPKdvyFg2"
     },
     "type": "MD"
    }
   },
   "source": [
    "**Close the log file**"
   ]
  },
  {
   "cell_type": "code",
   "execution_count": 281,
   "metadata": {
    "datalore": {
     "hide_input_from_viewers": false,
     "hide_output_from_viewers": false,
     "node_id": "I6txfcIS9WNQg7cWgHvyiR",
     "report_properties": {
      "rowId": "W4rDz5ZLtb95UDd7wXMjbe"
     },
     "type": "CODE"
    }
   },
   "outputs": [],
   "source": [
    "if LOGGED:\n",
    "    qlog.close()"
   ]
  },
  {
   "cell_type": "markdown",
   "metadata": {
    "datalore": {
     "hide_input_from_viewers": false,
     "hide_output_from_viewers": false,
     "node_id": "0J240LhAkSjI2xlcxJ7sc2",
     "report_properties": {
      "rowId": "O70tc8LKtxYEKmzfEDc5c2"
     },
     "type": "MD"
    }
   },
   "source": [
    "**Print some statistics**"
   ]
  },
  {
   "cell_type": "code",
   "execution_count": 282,
   "metadata": {
    "datalore": {
     "hide_input_from_viewers": false,
     "hide_output_from_viewers": false,
     "node_id": "rxMPERSFdk81AewSgtlXUk",
     "report_properties": {
      "rowId": "j1UJSYrznQda4zxCqJnCIN"
     },
     "type": "CODE"
    }
   },
   "outputs": [
    {
     "name": "stdout",
     "output_type": "stream",
     "text": [
      "Check in queue\n",
      "Arrivals               : 2432\n",
      "Utilization            : 0.24/0.25\n",
      "Mean waiting time      : 1.66/1.67\n",
      "Mean service time      : 5.00/5.00\n",
      "Mean response time     : 6.66/6.67\n",
      "------------------------------------------------------------\n",
      "Mini wash queue\n",
      "Arrivals               : 1380\n",
      "Utilization            : 0.32/0.30\n",
      "Mean waiting time      : 0.89/0.62\n",
      "Mean service time      : 45.31/45.00\n",
      "Mean response time     : 46.19/45.62\n",
      "------------------------------------------------------------\n",
      "Big wash queue\n",
      "Arrivals               : 136\n",
      "Utilization            : 0.34/0.04\n",
      "Mean waiting time      : 0.00/0.00\n",
      "Mean service time      : 55.32/55.00\n",
      "Mean response time     : 55.32/55.00\n",
      "------------------------------------------------------------\n",
      "Mini dry queue\n",
      "Arrivals               : 1581\n",
      "Utilization            : 0.20/0.20\n",
      "Mean waiting time      : 0.05/0.07\n",
      "Mean service time      : 23.96/25.00\n",
      "Mean response time     : 24.01/25.07\n",
      "------------------------------------------------------------\n",
      "Big dry queue\n",
      "Arrivals               : 188\n",
      "Utilization            : 0.63/0.03\n",
      "Mean waiting time      : 0.00/0.00\n",
      "Mean service time      : 31.42/30.00\n",
      "Mean response time     : 31.42/30.00\n",
      "------------------------------------------------------------\n",
      "Iron\n",
      "Arrivals               : 1743\n",
      "Utilization            : 0.17/0.17\n",
      "Mean waiting time      : 0.03/0.04\n",
      "Mean service time      : 19.55/20.00\n",
      "Mean response time     : 19.58/20.04\n",
      "------------------------------------------------------------\n",
      "Summary\n",
      "Arrivals               : 2498\n",
      "Utilization            : 0.25/0.25\n",
      "Mean waiting time      : 1.82/1.67\n",
      "Mean service time      : 5.01/5.00\n",
      "Mean response time     : 6.83/6.67\n",
      "------------------------------------------------------------\n"
     ]
    }
   ],
   "source": [
    "RHO             = []\n",
    "totalIdleTime   = []\n",
    "totalJobsDone   = []\n",
    "meanWaitingTime = []\n",
    "\n",
    "#Probability of 0 job in the system\n",
    "def calculateP0(numServer, rho):\n",
    "    return (1 + (numServer * rho)**numServer / (math.factorial(numServer) * (1 - rho)) + sum((numServer * rho)**n / math.factorial(n) for n in range(1, numServer)))**(-1)\n",
    "\n",
    "def calculateMeanWaitingTime(p0, rho, numServer, lam):\n",
    "    return p0 * ((rho * (numServer * rho)**numServer) / (math.factorial(numServer) * lam * (1 - rho)**2))\n",
    "\n",
    "NAME_OF_QUEUE = ['Check in queue', 'Mini wash queue', 'Big wash queue', 'Mini dry queue', 'Big dry queue', 'Iron', 'Summary']\n",
    "\n",
    "for i in range(NUM_QUEUE):\n",
    "    RHO.append(LAMBDA[i] / (NUM_SERVER[i] * MU[i]))\n",
    "    totalIdleTime.append(sum(laundryQueue[i].idleTime))\n",
    "    totalJobsDone.append(sum(laundryQueue[i].jobsDone))\n",
    "    meanWaitingTime.append(calculateMeanWaitingTime(calculateP0(NUM_SERVER[i], RHO[i]), RHO[i], NUM_SERVER[i], LAMBDA[i]))\n",
    "    print(NAME_OF_QUEUE[i])\n",
    "    print('Arrivals               : %d' % (totalJobsDone[i]))\n",
    "    print('Utilization            : %.2f/%.2f' % (1.0 - totalIdleTime[i] / (MAX_SIMULATION_TIME * NUM_SERVER[i]), RHO[i]))\n",
    "    print('Mean waiting time      : %.2f/%.2f' % ( laundryQueue[i].waitingTime / totalJobsDone[i], meanWaitingTime[i]))\n",
    "    print('Mean service time      : %.2f/%.2f' % (laundryQueue[i].serviceTime / totalJobsDone[i], 1/MU[i]))\n",
    "    print('Mean response time     : %.2f/%.2f' % (((laundryQueue[i].waitingTime + laundryQueue[i].serviceTime )/ totalJobsDone[i]),(meanWaitingTime[i] + 1/MU[i])))\n",
    "    print('------------------------------------------------------------')"
   ]
  }
 ],
 "metadata": {
  "datalore": {
   "base_environment": "default",
   "computation_mode": "JUPYTER",
   "package_manager": "pip",
   "packages": [
    {
     "name": "simpy",
     "source": "PIP",
     "version": "4.1.1"
    }
   ],
   "report_row_ids": [
    "9oBF3rv3793YGxY3HcrZHr",
    "0lGg1euhCQDmZTpcROzxyp",
    "s5uAhnAFFmel6xTk0t9asG",
    "WdI7MoFBAtbIhAXKuCpLvG",
    "37c5rwcpoWxfYeqHBHsgmL",
    "va8ikCRXHjwDMdlLkYA0VY",
    "AGYJruNPRonFpFkgJrEmm2",
    "JPE66WYE1KkmNW8iX5G7do",
    "bmQlJEFeGRuuynY4XrSw3n",
    "ZnT2CvL8aJGQNt9ZmQw3vz",
    "xT8XdoCQFbMbk39BCQfVRI",
    "UmHBqyo1Wz67pCKJMzKLGj",
    "dOgODQNxFELW1nwULBGqtP",
    "UEQ2xZ26Sg7TheNCv2fr2W",
    "wIU7oKbZoPpJbj7tnaqZRr",
    "RzI1gB6WqUdcbbDabq3Pn8",
    "QtVu0nxhMrq056BTeBf3bS",
    "107sD6cwfdneeDK3AzNLH7",
    "NLp6TjC9AjkXSw6OtRDZAY",
    "mfGn4za4JT4sQ9h5YAiJuM",
    "anXbgv6EcxE8GhPKdvyFg2",
    "W4rDz5ZLtb95UDd7wXMjbe",
    "O70tc8LKtxYEKmzfEDc5c2",
    "j1UJSYrznQda4zxCqJnCIN"
   ],
   "version": 3
  },
  "kernelspec": {
   "display_name": "Python 3 (ipykernel)",
   "language": "python",
   "name": "python3"
  },
  "language_info": {
   "codemirror_mode": {
    "name": "ipython",
    "version": 3
   },
   "file_extension": ".py",
   "mimetype": "text/x-python",
   "name": "python",
   "nbconvert_exporter": "python",
   "pygments_lexer": "ipython3",
   "version": "3.11.6"
  }
 },
 "nbformat": 4,
 "nbformat_minor": 4
}
