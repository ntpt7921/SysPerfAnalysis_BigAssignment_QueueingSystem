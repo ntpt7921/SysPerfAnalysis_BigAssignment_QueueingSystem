{
 "cells": [
  {
   "cell_type": "markdown",
   "metadata": {
    "id": "CUHWTvIm1FwD"
   },
   "source": [
    "Project name: *Laundry System*"
   ]
  },
  {
   "cell_type": "markdown",
   "metadata": {
    "id": "ubin2eU-0476"
   },
   "source": [
    "# 1. Team work declaration\n",
    "\n",
    "## Team\n",
    "| Student           | Id      |\n",
    "|-------------------|---------|\n",
    "| SV1               | ID1 |\n",
    "| SV2               | ID2 |\n",
    "| ...               | ... |\n",
    "\n",
    "## Workmap declaration\n",
    "\n",
    "| Last name | Student ID | Design Role | Dev Role | Eval Role | Report Role | Ass1 work description (details in text)  | Rating | week 2 outcome | week 3 outcome | week 4 outcome  |\n",
    "|-----------|------------|-------------|----------|-----------|-------------|------------------------------------------|-----------------|----------------|----------------|-----------------|\n",
    "| S1        |            | yes/no      | yes/no   | yes/no    | yes/no      |                                          | A/B/C           |                |                |                 |\n",
    "| S2        |            | yes/no      | yes/no   | yes/no    | yes/no      |                                          | A/B/C           |                |                |                 |\n",
    "| S3        |            | yes/no      | yes/no   | yes/no    | yes/no      |                                          | A/B/C           |                |                |                 |\n",
    "| S4        |            | yes/no      | yes/no   | yes/no    | yes/no      |                                          | A/B/C           |                |                |                 |\n",
    "| S5        |            | yes/no      | yes/no   | yes/no    | yes/no      |                                          | A/B/C           |                |                |                 |\n",
    "| S6        |            | yes/no      | yes/no   | yes/no    | yes/no      |                                          | A/B/C           |                |                |                 |\n",
    "|           |            |             |          |           |             |                                          |                 |                |                |                 |\n",
    "|           |            |             |          |           |             |                                          |                 |                |                |                 |\n"
   ]
  },
  {
   "cell_type": "markdown",
   "metadata": {
    "id": "JmvYUjApfJyh"
   },
   "source": [
    "*Guideline for teamwork declaration*\n",
    "Student needs to explicitly declare his/her contribution to the whole project with the specific role of Design/Dev/Eval(Test)/Report. Each role will associated with the differents activities in the group and will be ask to oral question differently.\n",
    "\n",
    "Group member self evaluate the amount of the work base on the 3level as follow:\n",
    "2 members are graded A for carrying the most of work done by him/her\n",
    "3 members are graded B for the main of work done by him/her\n",
    "2 members are graded C for his/her little contribution\n",
    "\n",
    "Remember that the higher contribution you make the higher score evaluation you obtain and the more oral questions that you need to take the responsibility since you know the project at the most.\n",
    "\n",
    "No work declaration implies all are rated C and have minus point since the task is missing."
   ]
  },
  {
   "cell_type": "markdown",
   "metadata": {
    "id": "bpm6agBkwg9i"
   },
   "source": [
    "# 2.System design\n",
    "\n",
    "## System Performance Steps\n",
    "\n",
    "### 1. Define Goal and System\n",
    "\n",
    "#### System defenition\n",
    "**Goals:** \\\\\n",
    "* To meet the customer demand and satisfaction by delivering quality and timely service \\\\\n",
    "* To optimize the operational efficiency and productivity by using modern technology and equipment \\\\\n",
    "* To study the impact of the parameters on the system's performance metrics. \\\\\n",
    "* To compare the simulation result withs the analytical results (those results only apply to the steady state case). \\\\\n",
    "\n",
    "**Boundaries of the system:** \\\\\n",
    "* **Physical boundaries:** The physical boundaries are the equipment, facilities, and infrastructure that are involved in the laundry process. \\\\\n",
    "The laundry store has 2 kinds of washing machines: washers & dryers. Each type has 4 mini device and 4 big device. Big device can handle 20kg clothes maximum, and 10kg with mini device.\\\\\n",
    " * Washer chracteristic:\n",
    "   * No of devices: 4 mini device and 4 big device\n",
    "   * Consume water and electricity\n",
    "   * Load capacity: maximum 20kg for big device, 10kg for mini device\n",
    "   * Functions of washers:\n",
    "     *  Wash\n",
    "\n",
    " * Dryer chracteristic:\n",
    "   *  No of devices: 4 mini device and 4 big device\n",
    "   *  Only consume electricity\n",
    "   *  Load capacity: maximum 20kg for big device, 10kg for mini device\n",
    "   *  Functions of dryers:\n",
    "     *  Dry\n",
    "\n",
    "**Functional boundaries:** The functional boundaries are the activities, tasks, and processes that are performed by the laundry system \\\\\n",
    "\n",
    "\n",
    "\n",
    "\n",
    "\n",
    "\n",
    "\n",
    "\n",
    "\n",
    "\n",
    "<!-- #### Goal 1: Maintain positive feedbacks from customers\n",
    "Find the proper amount for each kind of device to adapt well with the workload (**no request is overdue** )\n",
    "\n",
    "#### Goal 2: Equipment maintance -->\n",
    "\n"
   ]
  },
  {
   "cell_type": "code",
   "execution_count": null,
   "metadata": {
    "colab": {
     "base_uri": "https://localhost:8080/"
    },
    "executionInfo": {
     "elapsed": 48802,
     "status": "ok",
     "timestamp": 1700226945532,
     "user": {
      "displayName": "THÀNH TRƯƠNG CÔNG",
      "userId": "03517428036144165616"
     },
     "user_tz": -420
    },
    "id": "X2cn5XOeUhp4",
    "outputId": "d317a5be-0819-464b-f9be-3808133df171"
   },
   "outputs": [
    {
     "name": "stdout",
     "output_type": "stream",
     "text": [
      "Mounted at /content/drive\n",
      "Requirement already satisfied: Pillow in /usr/local/lib/python3.10/dist-packages (9.4.0)\n"
     ]
    }
   ],
   "source": [
    "from google.colab import drive\n",
    "drive.mount('/content/drive')"
   ]
  },
  {
   "cell_type": "code",
   "execution_count": null,
   "metadata": {
    "colab": {
     "base_uri": "https://localhost:8080/",
     "height": 289
    },
    "executionInfo": {
     "elapsed": 737,
     "status": "ok",
     "timestamp": 1700226948602,
     "user": {
      "displayName": "THÀNH TRƯƠNG CÔNG",
      "userId": "03517428036144165616"
     },
     "user_tz": -420
    },
    "id": "ZeS88-cia542",
    "outputId": "203965d4-cd02-4b0b-8c52-104331efd85d"
   },
   "outputs": [
    {
     "data": {
      "image/png": "[encoded data removed]",
      "text/plain": [
       "<Figure size 640x480 with 1 Axes>"
      ]
     },
     "metadata": {},
     "output_type": "display_data"
    }
   ],
   "source": [
    "image_path = '/content/drive/My Drive/SPE_Assignment/system.png'\n",
    "from matplotlib import pyplot as plt\n",
    "import matplotlib.image as mpimg\n",
    "\n",
    "img = mpimg.imread(image_path)\n",
    "plt.imshow(img)\n",
    "plt.axis('off')  # Hide axes\n",
    "plt.show()"
   ]
  },
  {
   "cell_type": "markdown",
   "metadata": {
    "id": "lQs2EJLRc-ie"
   },
   "source": [
    "**System have 7 queue**: check-in, mini wash, big wash, big dry, mini dry, ion and summary \\\\\n",
    "* **Check-in**: orders come to check-in queue and slit (if weight out of limit) and then go to next queue according to type of service.\n",
    "* **Mini Wash queue**: if order's service is normal wash or wash&dry wash and weight less than 10kg, order come to this queue. in here, clothes will be washed and come out (normal wash) or come to dry queue (wash & dry)\n",
    "* **Big Wash queue**: similar to mini wash queue but with weight 10-20kg\n",
    "* **Mini Dry queue**: if order's service is only dry or clothes have been washed in previous step and weight less than 10kg, order come to this queue. In here, clothes will be dry and always come out.\n",
    "* **Big Dry queue**: similar to mini dry queue but with weight 10-20kg\n",
    "* **Iron queue**: clothes have been dried in previous step come to this queue\n",
    "* **Summary queue**: package orders and return to customers.\n",
    "\n",
    "### 2. Service and Outcomes\n",
    "### Service:\n",
    "5 types of service\n",
    "* check-in\n",
    "* wash\n",
    "* dry\n",
    "* iron and fold\n",
    "* summary\n",
    "\n",
    "### Outcomes:\n",
    "* Done on time \\\\\n",
    "* Done lately \\\\\n",
    "* Cannot do \\\\\n",
    "\n",
    "### 3. Select Metrics\n",
    "\n",
    "* Response time\n",
    "* Throughput\n",
    "* Utilization\n",
    "* Overdue order rate = Number of overdue orders / Number of orders\n",
    "* Overflow rate\n",
    "\n",
    "\n",
    "* ***Em có vấn đề muốn tham khảo thầy: Bọn em định thêm vào tỉ lệ 1 máy bị hỏng, khi bị hỏng thì máy không thể sử dụng trong 1 khoảng thời gian nào đó. Thì điều này có khả quan hay k? Nếu như khả quan thì tỉ lệ máy bị hỏng và thời gian sửa chữa máy sẽ nằm trong metric hay parameter***\n",
    "\n",
    "### 4. List System Parameters\n",
    "\n",
    "System parameter: \\\\\n",
    "* Time Service of each queue in system\n",
    "* Number of machine\n",
    "\n",
    "Workload parameter: \\\\\n",
    "* Arrive time\n",
    "* Type of workload request\n",
    "* System Buffer\n",
    "\n",
    "### 5. List Factors to study\n",
    "* Arrive time - Level (Low/Normal/High)\n",
    "* Type of workload request (Balance/Almost normal wash/Almost wash and dry/Almost dry)\n",
    "* System Buffer (Low/High/Infinity)\n",
    "* Time Service of each queue in system (Less/Equal/Greater than Arrive time)\n",
    "\n",
    "### 6. Evaluation Technique\n",
    "\n",
    "Analytical and Simulation\n",
    "\n",
    "### 7. Select Workload\n",
    "Workload: A sequence of order with exponentially distributed randomized weight and type of services comming at arrival rate\n",
    "\n",
    "Normal workload:\n",
    "> Arrival process is Possoin process, orders come\n",
    "\n",
    "Heavy workload on some days of a week (lets consider weekends as those days)\n",
    "> Request rate burst on the weekends and drop sharply on other days\n"
   ]
  },
  {
   "cell_type": "markdown",
   "metadata": {
    "id": "EuRZ4_NldYmH"
   },
   "source": [
    "## System Component"
   ]
  },
  {
   "cell_type": "markdown",
   "metadata": {
    "id": "8KEafsk1znLp"
   },
   "source": [
    "# 3. System Implementation\n",
    "\n"
   ]
  },
  {
   "cell_type": "markdown",
   "metadata": {
    "id": "1sEsoPFEyMSP"
   },
   "source": [
    "## [Mandatory] Install prerequisite library\n",
    "\n",
    "\n",
    "*   simpy\n",
    "\n"
   ]
  },
  {
   "cell_type": "code",
   "execution_count": null,
   "metadata": {
    "id": "beclnXcxyM0q"
   },
   "outputs": [],
   "source": [
    "pip install simpy"
   ]
  },
  {
   "cell_type": "markdown",
   "metadata": {
    "id": "ls-Lb9pgivH8"
   },
   "source": [
    "## [Mandatory] System integration mandatory to explicit document among members' roles\n",
    "\n",
    "\n",
    "The design/coding/test/report need to explicitly export their work to other members:\n",
    "- design must provide the scheme diagram and all the interface need for coder to implement\n",
    "- coder must export full details of how to use your function implementation\n",
    "- tester must export the required interface that you need from designer/coder and the description of your test case scenarior.\n",
    "- reporter must export the structure and verify all the representation/result in your composing document material."
   ]
  },
  {
   "cell_type": "markdown",
   "metadata": {
    "id": "ggmtLnonyPjy"
   },
   "source": [
    "## Queuing Node 1\n",
    "Depends on your work how many node will associate with each node in a bullet"
   ]
  },
  {
   "cell_type": "code",
   "execution_count": null,
   "metadata": {
    "id": "IDMU-QtsvyDn"
   },
   "outputs": [],
   "source": []
  },
  {
   "cell_type": "markdown",
   "metadata": {
    "id": "111MFmX2zq3x"
   },
   "source": [
    "\n",
    "## Queuing node 2\n",
    "\n",
    "Depends on your work how many node will associate with each node in a bullet\n"
   ]
  },
  {
   "cell_type": "code",
   "execution_count": null,
   "metadata": {
    "id": "NmLjdtRwzeM1"
   },
   "outputs": [],
   "source": []
  },
  {
   "cell_type": "markdown",
   "metadata": {
    "id": "pyKjPPZuztkU"
   },
   "source": [
    "## Queuing node 3\n",
    "\n",
    "Depends on your work how many node will associate with each node in a bullet"
   ]
  },
  {
   "cell_type": "code",
   "execution_count": null,
   "metadata": {
    "id": "P4hxSzqwzv_j"
   },
   "outputs": [],
   "source": []
  },
  {
   "cell_type": "markdown",
   "metadata": {
    "id": "u-tuRYM1zwhz"
   },
   "source": [
    " ## [Mandatory] System configuration and execution"
   ]
  },
  {
   "cell_type": "code",
   "execution_count": null,
   "metadata": {
    "id": "5MseY1WFz5eQ"
   },
   "outputs": [],
   "source": []
  },
  {
   "cell_type": "markdown",
   "metadata": {
    "id": "OOJ3gBpCz47W"
   },
   "source": [
    "\n",
    "# 4. Present results"
   ]
  },
  {
   "cell_type": "code",
   "execution_count": null,
   "metadata": {
    "id": "YHjJimRGz-ds"
   },
   "outputs": [],
   "source": []
  },
  {
   "cell_type": "markdown",
   "metadata": {
    "id": "5XTuLnjDz_oE"
   },
   "source": [
    "Experiment 1"
   ]
  },
  {
   "cell_type": "code",
   "execution_count": null,
   "metadata": {
    "id": "ZHEo_fLm0IFf"
   },
   "outputs": [],
   "source": []
  },
  {
   "cell_type": "markdown",
   "metadata": {
    "id": "_s16dUz00EYc"
   },
   "source": [
    "Experiment 2"
   ]
  },
  {
   "cell_type": "code",
   "execution_count": null,
   "metadata": {
    "id": "KRdeaihH0JHo"
   },
   "outputs": [],
   "source": []
  },
  {
   "cell_type": "markdown",
   "metadata": {
    "id": "fbY9vNTS0D6T"
   },
   "source": [
    "# 5. Conclusions\n",
    "\n",
    "Project coordinator provide the statements of the work's including the superior point and 2-3 limitation points provided by the testing member"
   ]
  }
 ],
 "metadata": {
  "colab": {
   "provenance": []
  },
  "kernelspec": {
   "display_name": "Python 3 (ipykernel)",
   "language": "python",
   "name": "python3"
  },
  "language_info": {
   "codemirror_mode": {
    "name": "ipython",
    "version": 3
   },
   "file_extension": ".py",
   "mimetype": "text/x-python",
   "name": "python",
   "nbconvert_exporter": "python",
   "pygments_lexer": "ipython3",
   "version": "3.11.6"
  }
 },
 "nbformat": 4,
 "nbformat_minor": 1
}
